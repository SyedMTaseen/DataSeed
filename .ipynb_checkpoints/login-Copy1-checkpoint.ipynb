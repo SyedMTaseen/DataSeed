{
 "cells": [
  {
   "cell_type": "code",
   "execution_count": 3,
   "metadata": {},
   "outputs": [
    {
     "data": {
      "text/plain": [
       "['_id', 'username', 'password']"
      ]
     },
     "execution_count": 3,
     "metadata": {},
     "output_type": "execute_result"
    }
   ],
   "source": [
    "# -*- coding: utf-8 -*-\n",
    "\n",
    "# Form implementation generated from reading ui file 'login.ui'\n",
    "#\n",
    "# Created by: PyQt5 UI code generator 5.9.2\n",
    "#\n",
    "# WARNING! All changes made in this file will be lost!\n",
    "\n",
    "from PyQt5 import QtCore, QtGui, QtWidgets\n",
    "import os\n",
    "import sys\n",
    "import pymongo\n",
    "\n",
    "data_client = pymongo.MongoClient(\"mongodb://localhost/\")\n",
    "ds_db = data_client[\"dataseed_db\"]\n",
    "ds_user = ds_db[\"user\"]\n",
    "\n",
    "# x = ds_user.insert_one({_id:123,\"fullname\":\"DataSeed User\",\"username\":\"ds\", \"password\":\"ds\"})\n",
    "curr_user = ds_user.find_one()\n",
    "list(curr_user)\n",
    "# print(curr_user['username'])\n",
    "# print(curr_user['password'])\n",
    "\n",
    "# FOR SIGN OUT\n",
    "# curr_db_user = ds_db[\"curr_user\"]\n",
    "# x = curr_db_user.remove({})\n"
   ]
  },
  {
   "cell_type": "code",
   "execution_count": 2,
   "metadata": {},
   "outputs": [
    {
     "ename": "SystemExit",
     "evalue": "0",
     "output_type": "error",
     "traceback": [
      "An exception has occurred, use %tb to see the full traceback.\n",
      "\u001b[1;31mSystemExit\u001b[0m\u001b[1;31m:\u001b[0m 0\n"
     ]
    },
    {
     "name": "stderr",
     "output_type": "stream",
     "text": [
      "C:\\ProgramData\\Anaconda3\\lib\\site-packages\\IPython\\core\\interactiveshell.py:2971: UserWarning: To exit: use 'exit', 'quit', or Ctrl-D.\n",
      "  warn(\"To exit: use 'exit', 'quit', or Ctrl-D.\", stacklevel=1)\n"
     ]
    }
   ],
   "source": [
    "\n",
    "\n",
    "class Ui_Login(object):\n",
    "    def setupUi(self, Login):\n",
    "        Login.setObjectName(\"Login\")\n",
    "        Login.resize(400, 300)\n",
    "        self.centralWidget = QtWidgets.QWidget(Login)\n",
    "        self.centralWidget.setObjectName(\"centralWidget\")\n",
    "        self.groupBox = QtWidgets.QGroupBox(self.centralWidget)\n",
    "        self.groupBox.setGeometry(QtCore.QRect(150, 10, 241, 231))\n",
    "        self.groupBox.setObjectName(\"groupBox\")\n",
    "        self.loginButton = QtWidgets.QPushButton(self.groupBox)\n",
    "        self.loginButton.setGeometry(QtCore.QRect(30, 180, 75, 23))\n",
    "        self.loginButton.setObjectName(\"loginButton\")\n",
    "        self.Signup = QtWidgets.QPushButton(self.groupBox)\n",
    "        self.Signup.setGeometry(QtCore.QRect(132, 181, 75, 23))\n",
    "        self.Signup.setObjectName(\"Signup\")\n",
    "        self.LUname = QtWidgets.QLabel(self.groupBox)\n",
    "        self.LUname.setGeometry(QtCore.QRect(27, 41, 52, 16))\n",
    "        self.LUname.setObjectName(\"LUname\")\n",
    "        self.TUname = QtWidgets.QLineEdit(self.groupBox)\n",
    "        self.TUname.setGeometry(QtCore.QRect(85, 41, 133, 20))\n",
    "        self.TUname.setObjectName(\"TUname\")\n",
    "        self.Lpass = QtWidgets.QLabel(self.groupBox)\n",
    "        self.Lpass.setGeometry(QtCore.QRect(28, 92, 52, 16))\n",
    "        self.Lpass.setObjectName(\"Lpass\")\n",
    "        self.Tpass = QtWidgets.QLineEdit(self.groupBox)\n",
    "        self.Tpass.setGeometry(QtCore.QRect(86, 92, 131, 20))\n",
    "        self.Tpass.setEchoMode(QtWidgets.QLineEdit.Password)\n",
    "        self.Tpass.setObjectName(\"Tpass\")\n",
    "        self.Lerror = QtWidgets.QLabel(self.groupBox)\n",
    "        self.Lerror.setGeometry(QtCore.QRect(40, 140, 150, 16))\n",
    "        self.Lerror.setObjectName(\"Lerror\")\n",
    "        self.Lerror.setStyleSheet(\"QLabel {color:red;}\")\n",
    "        self.LPic = QtWidgets.QLabel(self.centralWidget)\n",
    "        self.LPic.setGeometry(QtCore.QRect(20, 50, 121, 151))\n",
    "        self.LPic.setText(\"\")\n",
    "        self.LPic.setPixmap(QtGui.QPixmap(\"img/login.png\"))\n",
    "        self.LPic.setScaledContents(True)\n",
    "        self.LPic.setObjectName(\"LPic\")\n",
    "        Login.setCentralWidget(self.centralWidget)\n",
    "        self.menuBar = QtWidgets.QMenuBar(Login)\n",
    "        self.menuBar.setGeometry(QtCore.QRect(0, 0, 400, 21))\n",
    "        self.menuBar.setObjectName(\"menuBar\")\n",
    "        Login.setMenuBar(self.menuBar)\n",
    "        self.mainToolBar = QtWidgets.QToolBar(Login)\n",
    "        self.mainToolBar.setObjectName(\"mainToolBar\")\n",
    "        Login.addToolBar(QtCore.Qt.TopToolBarArea, self.mainToolBar)\n",
    "        self.statusBar = QtWidgets.QStatusBar(Login)\n",
    "        self.statusBar.setObjectName(\"statusBar\")\n",
    "        Login.setStatusBar(self.statusBar)\n",
    "\n",
    "        self.retranslateUi(Login)\n",
    "        QtCore.QMetaObject.connectSlotsByName(Login)\n",
    "        ### func \n",
    "        self.loginButton.clicked.connect(self.loginpressed)\n",
    "        self.Signup.clicked.connect(self.signuppressed)\n",
    "\t###\texit\n",
    "\n",
    "    def retranslateUi(self, Login):\n",
    "        _translate = QtCore.QCoreApplication.translate\n",
    "        Login.setWindowTitle(_translate(\"Login\", \"Login\"))\n",
    "        self.groupBox.setTitle(_translate(\"Login\", \"Sign In\"))\n",
    "        self.loginButton.setText(_translate(\"Login\", \"Login\"))\n",
    "        self.Signup.setText(_translate(\"Login\", \"Sign Up\"))\n",
    "        self.LUname.setText(_translate(\"Login\", \"User Name\"))\n",
    "        self.Lpass.setText(_translate(\"Login\", \"Password  \"))\n",
    "        self.Lerror.setText(_translate(\"Login\", \"<html><head/><body><p><br/></p></body></html>\"))\n",
    "        ##my func\t\n",
    "    def loginpressed(self):\n",
    "        if(self.TUname.text()== curr_user[\"username\"] and self.Tpass.text() == curr_user[\"password\"]):\n",
    "            self.Lerror.setText(\"Redirect page is not added\")\n",
    "            os.system('python mainpage.py')\n",
    "        else:\n",
    "        \tself.Lerror.setText(\"Invalid Username or password\")\n",
    "             \n",
    "    def signuppressed(self):\n",
    "        \n",
    "        os.system('python signup.py')          \n",
    "       \n",
    "         #sys.exit()# not best way\n",
    "\n",
    "     \t##exit\n",
    "\n",
    "\n",
    "if __name__ == \"__main__\":\n",
    "    import sys\n",
    "    app = QtWidgets.QApplication(sys.argv)\n",
    "    Login = QtWidgets.QMainWindow()\n",
    "    ui = Ui_Login()\n",
    "    ui.setupUi(Login)\n",
    "    Login.show()\n",
    "    sys.exit(app.exec_())\n",
    "\n"
   ]
  }
 ],
 "metadata": {
  "kernelspec": {
   "display_name": "Python 3",
   "language": "python",
   "name": "python3"
  },
  "language_info": {
   "codemirror_mode": {
    "name": "ipython",
    "version": 3
   },
   "file_extension": ".py",
   "mimetype": "text/x-python",
   "name": "python",
   "nbconvert_exporter": "python",
   "pygments_lexer": "ipython3",
   "version": "3.6.5"
  }
 },
 "nbformat": 4,
 "nbformat_minor": 2
}
