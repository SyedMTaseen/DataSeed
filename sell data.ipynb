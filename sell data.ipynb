{
 "cells": [
  {
   "cell_type": "code",
   "execution_count": 1,
   "metadata": {},
   "outputs": [],
   "source": [
    "import sys\n",
    "from PyQt5 import QtCore, QtGui, QtWidgets,uic,Qt\n",
    "from PyQt5.QtWidgets import QLayout, QSizePolicy,QApplication, QWidget, QListWidget, QVBoxLayout, QLabel, QPushButton, QListWidgetItem, \\\n",
    "    QHBoxLayout"
   ]
  },
  {
   "cell_type": "code",
   "execution_count": 2,
   "metadata": {},
   "outputs": [],
   "source": [
    "qtCreatorFile = \"sell data.ui\" # Enter file here.\n",
    "\n",
    "Ui_MainWindow, QtBaseClass = uic.loadUiType(qtCreatorFile)"
   ]
  },
  {
   "cell_type": "code",
   "execution_count": 3,
   "metadata": {},
   "outputs": [],
   "source": [
    "filterItem = ['Medical','General']\n",
    "strr=''"
   ]
  },
  {
   "cell_type": "code",
   "execution_count": 4,
   "metadata": {},
   "outputs": [
    {
     "ename": "SystemExit",
     "evalue": "0",
     "output_type": "error",
     "traceback": [
      "An exception has occurred, use %tb to see the full traceback.\n",
      "\u001b[1;31mSystemExit\u001b[0m\u001b[1;31m:\u001b[0m 0\n"
     ]
    },
    {
     "name": "stderr",
     "output_type": "stream",
     "text": [
      "C:\\ProgramData\\Anaconda3\\lib\\site-packages\\IPython\\core\\interactiveshell.py:2971: UserWarning: To exit: use 'exit', 'quit', or Ctrl-D.\n",
      "  warn(\"To exit: use 'exit', 'quit', or Ctrl-D.\", stacklevel=1)\n"
     ]
    }
   ],
   "source": [
    "class MyApp(QtWidgets.QMainWindow, Ui_MainWindow):\n",
    "    def __init__(self):\n",
    "        QtWidgets.QMainWindow.__init__(self)\n",
    "        Ui_MainWindow.__init__(self)\n",
    "        self.setupUi(self)\n",
    "        self.submit_btn.clicked.connect(self.CalculateTax)\n",
    "        self.category_field.addItems(filterItem)\n",
    "        self.category_field.currentIndexChanged.connect(self.selectionchange)\n",
    "\n",
    "    def selectionchange(self,i):\n",
    "        strr+= self.category_field.currentText();\n",
    "        self.status_field.setText(self.category_field.currentText())\n",
    "        \n",
    "    def CalculateTax(self):\n",
    "        \n",
    "        str1= self.b_des_field.toPlainText()\n",
    "        str2= self.l_des_field.toPlainText()\n",
    "        str3= self.path_field.text()\n",
    "        str4= self.cost_field.text()\n",
    "        if (str1 ==\"\" or str2 ==\"\" or str3 ==\"\" or str4 ==\"\" ):\n",
    "            self.status_field.setText(\"Detail is missing!\")    \n",
    "        else:\n",
    "            self.status_field.setText(\"Successfully Submited!\")\n",
    "        \n",
    "  \n",
    "        \n",
    "        \n",
    "if __name__ == \"__main__\":\n",
    "    app = QtWidgets.QApplication(sys.argv)\n",
    "    window = MyApp()\n",
    "    window.show()\n",
    "    sys.exit(app.exec_())"
   ]
  }
 ],
 "metadata": {
  "kernelspec": {
   "display_name": "Python 3",
   "language": "python",
   "name": "python3"
  },
  "language_info": {
   "codemirror_mode": {
    "name": "ipython",
    "version": 3
   },
   "file_extension": ".py",
   "mimetype": "text/x-python",
   "name": "python",
   "nbconvert_exporter": "python",
   "pygments_lexer": "ipython3",
   "version": "3.6.5"
  }
 },
 "nbformat": 4,
 "nbformat_minor": 2
}
